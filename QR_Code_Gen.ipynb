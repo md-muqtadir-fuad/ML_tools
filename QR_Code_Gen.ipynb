{
  "nbformat": 4,
  "nbformat_minor": 0,
  "metadata": {
    "colab": {
      "provenance": [],
      "authorship_tag": "ABX9TyP/NWKXsMO9BZfBlWIDf1sV"
    },
    "kernelspec": {
      "name": "python3",
      "display_name": "Python 3"
    },
    "language_info": {
      "name": "python"
    }
  },
  "cells": [
    {
      "cell_type": "code",
      "execution_count": null,
      "metadata": {
        "colab": {
          "base_uri": "https://localhost:8080/"
        },
        "id": "zNPj59JXyuBE",
        "outputId": "4ba44722-3c41-4882-f7a6-0976ae80e151"
      },
      "outputs": [
        {
          "output_type": "stream",
          "name": "stdout",
          "text": [
            "Requirement already satisfied: qrcode in /usr/local/lib/python3.11/dist-packages (8.1)\n"
          ]
        }
      ],
      "source": [
        "!pip install qrcode"
      ]
    },
    {
      "cell_type": "code",
      "source": [
        "import qrcode\n",
        "from PIL import Image\n",
        "\n",
        "def generate_transparent_qr(data, output_file='qr_transparent.png'):\n",
        "    # 1) Build a QR code\n",
        "    qr = qrcode.QRCode(box_size=10, border=4)\n",
        "    qr.add_data(data)\n",
        "    qr.make(fit=True)\n",
        "\n",
        "    # 2) Create an image with a white background, then convert to RGBA\n",
        "    img_qr = qr.make_image(fill_color=\"black\", back_color=\"white\").convert(\"RGBA\")\n",
        "\n",
        "    # 3) Replace white pixels with fully transparent pixels\n",
        "    #    This loop checks each pixel's RGB; if it's white, make it transparent\n",
        "    datas = img_qr.getdata()\n",
        "    new_data = []\n",
        "    for item in datas:\n",
        "        # item is (R, G, B, A)\n",
        "        if item[0] > 200 and item[1] > 200 and item[2] > 200:\n",
        "            # If pixel is close to white (R, G, B all > 200), set alpha to 0\n",
        "            new_data.append((255, 255, 255, 0))\n",
        "        else:\n",
        "            # Otherwise keep the pixel\n",
        "            new_data.append(item)\n",
        "\n",
        "    img_qr.putdata(new_data)\n",
        "\n",
        "    # 4) Save the final image (which has a transparent background)\n",
        "    img_qr.save(output_file)\n",
        "    print(f\"QR code with transparent background saved to '{output_file}'\")\n",
        "\n",
        "if __name__ == \"__main__\":\n",
        "    generate_transparent_qr(\"https://docs.google.com/forms/d/e/1FAIpQLSdFk5rqOJSzVHc5bInThEBN_yOEz7pZnlcecHlJ9ruThTNZ8A/viewform?usp=header\", \"SBSC_QR.png\")\n"
      ],
      "metadata": {
        "colab": {
          "base_uri": "https://localhost:8080/"
        },
        "id": "VzsuUvJq0uAX",
        "outputId": "3e5865c6-8db0-42dc-e1b3-2e3b24ae0dfd"
      },
      "execution_count": null,
      "outputs": [
        {
          "output_type": "stream",
          "name": "stdout",
          "text": [
            "QR code with transparent background saved to 'SBSC_QR.png'\n"
          ]
        }
      ]
    }
  ]
}